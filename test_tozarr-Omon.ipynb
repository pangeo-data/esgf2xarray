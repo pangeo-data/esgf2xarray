{
 "cells": [
  {
   "cell_type": "code",
   "execution_count": 1,
   "metadata": {},
   "outputs": [
    {
     "data": {
      "text/plain": [
       "'0.11.1+65.g627a881'"
      ]
     },
     "execution_count": 1,
     "metadata": {},
     "output_type": "execute_result"
    }
   ],
   "source": [
    "import xarray as xr\n",
    "from glob import glob\n",
    "from matplotlib import pyplot as plt\n",
    "%matplotlib inline\n",
    "xr.__version__"
   ]
  },
  {
   "cell_type": "code",
   "execution_count": 2,
   "metadata": {},
   "outputs": [
    {
     "data": {
      "text/plain": [
       "'2.2.1.dev146'"
      ]
     },
     "execution_count": 2,
     "metadata": {},
     "output_type": "execute_result"
    }
   ],
   "source": [
    "import zarr\n",
    "zarr.__version__"
   ]
  },
  {
   "cell_type": "markdown",
   "metadata": {},
   "source": [
    "- don't forget to do some port forwarding from the machine your browser is running on:\n",
    "- ssh -L 8787:localhost:8787 naomi@mary\n",
    "- (and DASK DASHBOARD URL = http://127.0.0.1:8787/status)\n",
    "            "
   ]
  },
  {
   "cell_type": "code",
   "execution_count": 3,
   "metadata": {},
   "outputs": [
    {
     "data": {
      "text/html": [
       "<table style=\"border: 2px solid white;\">\n",
       "<tr>\n",
       "<td style=\"vertical-align: top; border: 0px solid white\">\n",
       "<h3>Client</h3>\n",
       "<ul>\n",
       "  <li><b>Scheduler: </b>tcp://127.0.0.1:33197\n",
       "  <li><b>Dashboard: </b><a href='http://127.0.0.1:8787/status' target='_blank'>http://127.0.0.1:8787/status</a>\n",
       "</ul>\n",
       "</td>\n",
       "<td style=\"vertical-align: top; border: 0px solid white\">\n",
       "<h3>Cluster</h3>\n",
       "<ul>\n",
       "  <li><b>Workers: </b>8</li>\n",
       "  <li><b>Cores: </b>40</li>\n",
       "  <li><b>Memory: </b>134.90 GB</li>\n",
       "</ul>\n",
       "</td>\n",
       "</tr>\n",
       "</table>"
      ],
      "text/plain": [
       "<Client: scheduler='tcp://127.0.0.1:33197' processes=8 cores=40>"
      ]
     },
     "execution_count": 3,
     "metadata": {},
     "output_type": "execute_result"
    }
   ],
   "source": [
    "from dask.distributed import Client\n",
    "\n",
    "client = Client()\n",
    "client"
   ]
  },
  {
   "cell_type": "code",
   "execution_count": 4,
   "metadata": {},
   "outputs": [],
   "source": [
    "# From Ryan\n",
    "def set_bnds_as_coords(ds):\n",
    "    new_coords_vars = [var for var in ds.data_vars if 'bnds' in var or 'bounds' in var]\n",
    "    ds = ds.set_coords(new_coords_vars)\n",
    "    return ds"
   ]
  },
  {
   "cell_type": "code",
   "execution_count": 5,
   "metadata": {},
   "outputs": [
    {
     "name": "stdout",
     "output_type": "stream",
     "text": [
      "CPU times: user 48.5 ms, sys: 12 ms, total: 60.5 ms\n",
      "Wall time: 180 ms\n"
     ]
    }
   ],
   "source": [
    "%%time\n",
    "ncpath = '/dm5/naomi/CMIP6/CMIP/BCC/BCC-ESM1/historical/r1i1p1f1/Omon/uo/gn/v20181129/uo_Omon_BCC-ESM1_historical_r1i1p1f1_gn_185001-185912.nc'\n",
    "ds = xr.open_dataset(ncpath)"
   ]
  },
  {
   "cell_type": "code",
   "execution_count": 39,
   "metadata": {},
   "outputs": [],
   "source": [
    "#%%time\n",
    "ncfile1 = '/dm5/naomi/CMIP6mon/CMIP/BCC/BCC-ESM1/historical/r1i1p1f1/Omon/uo/gn/v20181129/uo_Omon_BCC-ESM1_historical_r1i1p1f1_gn_185001-185912.nc'\n",
    "ds1 = xr.open_mfdataset(ncfile1, decode_times=False, preprocess=set_bnds_as_coords)\n",
    "ncfile2 = '/dm5/naomi/CMIP6mon/CMIP/BCC/BCC-ESM1/historical/r1i1p1f1/Omon/uo/gn/v20181129/uo_Omon_BCC-ESM1_historical_r1i1p1f1_gn_186001-186912.nc'\n",
    "ds2 = xr.open_mfdataset(ncfile2, decode_times=False, preprocess=set_bnds_as_coords)"
   ]
  },
  {
   "cell_type": "code",
   "execution_count": 47,
   "metadata": {},
   "outputs": [
    {
     "name": "stdout",
     "output_type": "stream",
     "text": [
      "days since 1850-1-1  and  days since 1860-1-1\n"
     ]
    }
   ],
   "source": [
    "print(ds1.time.attrs['units'],' and ',ds2.time.attrs['units'])"
   ]
  },
  {
   "cell_type": "code",
   "execution_count": 54,
   "metadata": {},
   "outputs": [
    {
     "data": {
      "text/plain": [
       "Coordinates:\n",
       "  * lev        (lev) float64 5.0 15.0 25.0 ... 4.289e+03 4.807e+03 5.334e+03\n",
       "    lev_bnds   (lev, bnds) float64 0.0 10.0 10.0 ... 5.071e+03 5.071e+03 5.6e+03\n",
       "  * lat        (lat) float64 -81.0 -80.0 -79.0 -78.0 ... 87.0 88.0 89.0 90.0\n",
       "    lat_bnds   (lat, bnds) float64 -81.0 -80.5 -80.5 -79.5 ... 89.5 89.5 90.0\n",
       "  * lon        (lon) float64 0.0 1.0 2.0 3.0 4.0 ... 356.0 357.0 358.0 359.0\n",
       "    lon_bnds   (lon, bnds) float64 -0.5 0.5 0.5 1.5 ... 357.5 358.5 358.5 359.5\n",
       "    latitude   (lat, lon) float32 -81.0 -81.0 -81.0 ... 88.4463 88.2237 88.00084\n",
       "    longitude  (lat, lon) float32 0.0 1.0 2.0 3.0 4.0 ... 80.0 80.0 80.0 80.0\n",
       "  * time       (time) object 1850-01-16 12:00:00 ... 1869-12-16 12:00:00\n",
       "    time_bnds  (time, bnds) object dask.array<shape=(240, 2), chunksize=(120, 2)>"
      ]
     },
     "execution_count": 54,
     "metadata": {},
     "output_type": "execute_result"
    }
   ],
   "source": [
    "ds = xr.open_mfdataset([ncfile1,ncfile2], decode_times=True, preprocess=set_bnds_as_coords)\n",
    "ds.coords"
   ]
  },
  {
   "cell_type": "code",
   "execution_count": 55,
   "metadata": {},
   "outputs": [
    {
     "data": {
      "text/plain": [
       "Coordinates:\n",
       "  * lev        (lev) float64 5.0 15.0 25.0 ... 4.289e+03 4.807e+03 5.334e+03\n",
       "    lev_bnds   (lev, bnds) float64 0.0 10.0 10.0 ... 5.071e+03 5.071e+03 5.6e+03\n",
       "  * lat        (lat) float64 -81.0 -80.0 -79.0 -78.0 ... 87.0 88.0 89.0 90.0\n",
       "    lat_bnds   (lat, bnds) float64 -81.0 -80.5 -80.5 -79.5 ... 89.5 89.5 90.0\n",
       "  * lon        (lon) float64 0.0 1.0 2.0 3.0 4.0 ... 356.0 357.0 358.0 359.0\n",
       "    lon_bnds   (lon, bnds) float64 -0.5 0.5 0.5 1.5 ... 357.5 358.5 358.5 359.5\n",
       "    latitude   (lat, lon) float32 -81.0 -81.0 -81.0 ... 88.4463 88.2237 88.00084\n",
       "    longitude  (lat, lon) float32 0.0 1.0 2.0 3.0 4.0 ... 80.0 80.0 80.0 80.0\n",
       "  * time       (time) object 1850-01-16 12:00:00 ... 1869-12-16 12:00:00\n",
       "    time_bnds  (time, bnds) object 1850-01-01 00:00:00 ... 1870-01-01 00:00:00"
      ]
     },
     "execution_count": 55,
     "metadata": {},
     "output_type": "execute_result"
    }
   ],
   "source": [
    "ds.time_bnds.load()\n",
    "ds.coords"
   ]
  },
  {
   "cell_type": "code",
   "execution_count": 56,
   "metadata": {},
   "outputs": [
    {
     "ename": "NotImplementedError",
     "evalue": "Can not use auto rechunking with object dtype. We are unable to estimate the size in bytes of object data",
     "output_type": "error",
     "traceback": [
      "\u001b[0;31m---------------------------------------------------------------------------\u001b[0m",
      "\u001b[0;31mNotImplementedError\u001b[0m                       Traceback (most recent call last)",
      "\u001b[0;32m<ipython-input-56-306e12747ca4>\u001b[0m in \u001b[0;36m<module>\u001b[0;34m\u001b[0m\n\u001b[0;32m----> 1\u001b[0;31m \u001b[0mds\u001b[0m\u001b[0;34m.\u001b[0m\u001b[0mchunk\u001b[0m\u001b[0;34m(\u001b[0m\u001b[0mchunks\u001b[0m\u001b[0;34m=\u001b[0m\u001b[0;34m{\u001b[0m\u001b[0;34m'time'\u001b[0m \u001b[0;34m:\u001b[0m \u001b[0;34m'auto'\u001b[0m\u001b[0;34m}\u001b[0m\u001b[0;34m)\u001b[0m\u001b[0;34m\u001b[0m\u001b[0;34m\u001b[0m\u001b[0m\n\u001b[0m",
      "\u001b[0;32m/usr/local/python/anaconda3/envs/python3.6/lib/python3.6/site-packages/xarray/core/dataset.py\u001b[0m in \u001b[0;36mchunk\u001b[0;34m(self, chunks, name_prefix, token, lock)\u001b[0m\n\u001b[1;32m   1484\u001b[0m \u001b[0;34m\u001b[0m\u001b[0m\n\u001b[1;32m   1485\u001b[0m         variables = OrderedDict([(k, maybe_chunk(k, v, chunks))\n\u001b[0;32m-> 1486\u001b[0;31m                                  for k, v in self.variables.items()])\n\u001b[0m\u001b[1;32m   1487\u001b[0m         \u001b[0;32mreturn\u001b[0m \u001b[0mself\u001b[0m\u001b[0;34m.\u001b[0m\u001b[0m_replace\u001b[0m\u001b[0;34m(\u001b[0m\u001b[0mvariables\u001b[0m\u001b[0;34m)\u001b[0m\u001b[0;34m\u001b[0m\u001b[0;34m\u001b[0m\u001b[0m\n\u001b[1;32m   1488\u001b[0m \u001b[0;34m\u001b[0m\u001b[0m\n",
      "\u001b[0;32m/usr/local/python/anaconda3/envs/python3.6/lib/python3.6/site-packages/xarray/core/dataset.py\u001b[0m in \u001b[0;36m<listcomp>\u001b[0;34m(.0)\u001b[0m\n\u001b[1;32m   1484\u001b[0m \u001b[0;34m\u001b[0m\u001b[0m\n\u001b[1;32m   1485\u001b[0m         variables = OrderedDict([(k, maybe_chunk(k, v, chunks))\n\u001b[0;32m-> 1486\u001b[0;31m                                  for k, v in self.variables.items()])\n\u001b[0m\u001b[1;32m   1487\u001b[0m         \u001b[0;32mreturn\u001b[0m \u001b[0mself\u001b[0m\u001b[0;34m.\u001b[0m\u001b[0m_replace\u001b[0m\u001b[0;34m(\u001b[0m\u001b[0mvariables\u001b[0m\u001b[0;34m)\u001b[0m\u001b[0;34m\u001b[0m\u001b[0;34m\u001b[0m\u001b[0m\n\u001b[1;32m   1488\u001b[0m \u001b[0;34m\u001b[0m\u001b[0m\n",
      "\u001b[0;32m/usr/local/python/anaconda3/envs/python3.6/lib/python3.6/site-packages/xarray/core/dataset.py\u001b[0m in \u001b[0;36mmaybe_chunk\u001b[0;34m(name, var, chunks)\u001b[0m\n\u001b[1;32m   1479\u001b[0m                 \u001b[0mtoken2\u001b[0m \u001b[0;34m=\u001b[0m \u001b[0mtokenize\u001b[0m\u001b[0;34m(\u001b[0m\u001b[0mname\u001b[0m\u001b[0;34m,\u001b[0m \u001b[0mtoken\u001b[0m \u001b[0;32mif\u001b[0m \u001b[0mtoken\u001b[0m \u001b[0;32melse\u001b[0m \u001b[0mvar\u001b[0m\u001b[0;34m.\u001b[0m\u001b[0m_data\u001b[0m\u001b[0;34m)\u001b[0m\u001b[0;34m\u001b[0m\u001b[0;34m\u001b[0m\u001b[0m\n\u001b[1;32m   1480\u001b[0m                 \u001b[0mname2\u001b[0m \u001b[0;34m=\u001b[0m \u001b[0;34m'%s%s-%s'\u001b[0m \u001b[0;34m%\u001b[0m \u001b[0;34m(\u001b[0m\u001b[0mname_prefix\u001b[0m\u001b[0;34m,\u001b[0m \u001b[0mname\u001b[0m\u001b[0;34m,\u001b[0m \u001b[0mtoken2\u001b[0m\u001b[0;34m)\u001b[0m\u001b[0;34m\u001b[0m\u001b[0;34m\u001b[0m\u001b[0m\n\u001b[0;32m-> 1481\u001b[0;31m                 \u001b[0;32mreturn\u001b[0m \u001b[0mvar\u001b[0m\u001b[0;34m.\u001b[0m\u001b[0mchunk\u001b[0m\u001b[0;34m(\u001b[0m\u001b[0mchunks\u001b[0m\u001b[0;34m,\u001b[0m \u001b[0mname\u001b[0m\u001b[0;34m=\u001b[0m\u001b[0mname2\u001b[0m\u001b[0;34m,\u001b[0m \u001b[0mlock\u001b[0m\u001b[0;34m=\u001b[0m\u001b[0mlock\u001b[0m\u001b[0;34m)\u001b[0m\u001b[0;34m\u001b[0m\u001b[0;34m\u001b[0m\u001b[0m\n\u001b[0m\u001b[1;32m   1482\u001b[0m             \u001b[0;32melse\u001b[0m\u001b[0;34m:\u001b[0m\u001b[0;34m\u001b[0m\u001b[0;34m\u001b[0m\u001b[0m\n\u001b[1;32m   1483\u001b[0m                 \u001b[0;32mreturn\u001b[0m \u001b[0mvar\u001b[0m\u001b[0;34m\u001b[0m\u001b[0;34m\u001b[0m\u001b[0m\n",
      "\u001b[0;32m/usr/local/python/anaconda3/envs/python3.6/lib/python3.6/site-packages/xarray/core/variable.py\u001b[0m in \u001b[0;36mchunk\u001b[0;34m(self, chunks, name, lock)\u001b[0m\n\u001b[1;32m    888\u001b[0m             data = indexing.ImplicitToExplicitIndexingAdapter(\n\u001b[1;32m    889\u001b[0m                 data, indexing.OuterIndexer)\n\u001b[0;32m--> 890\u001b[0;31m             \u001b[0mdata\u001b[0m \u001b[0;34m=\u001b[0m \u001b[0mda\u001b[0m\u001b[0;34m.\u001b[0m\u001b[0mfrom_array\u001b[0m\u001b[0;34m(\u001b[0m\u001b[0mdata\u001b[0m\u001b[0;34m,\u001b[0m \u001b[0mchunks\u001b[0m\u001b[0;34m,\u001b[0m \u001b[0mname\u001b[0m\u001b[0;34m=\u001b[0m\u001b[0mname\u001b[0m\u001b[0;34m,\u001b[0m \u001b[0mlock\u001b[0m\u001b[0;34m=\u001b[0m\u001b[0mlock\u001b[0m\u001b[0;34m)\u001b[0m\u001b[0;34m\u001b[0m\u001b[0;34m\u001b[0m\u001b[0m\n\u001b[0m\u001b[1;32m    891\u001b[0m \u001b[0;34m\u001b[0m\u001b[0m\n\u001b[1;32m    892\u001b[0m         return type(self)(self.dims, data, self._attrs, self._encoding,\n",
      "\u001b[0;32m/usr/local/python/anaconda3/envs/python3.6/lib/python3.6/site-packages/dask/array/core.py\u001b[0m in \u001b[0;36mfrom_array\u001b[0;34m(x, chunks, name, lock, asarray, fancy, getitem)\u001b[0m\n\u001b[1;32m   2094\u001b[0m         \u001b[0mx\u001b[0m \u001b[0;34m=\u001b[0m \u001b[0mnp\u001b[0m\u001b[0;34m.\u001b[0m\u001b[0marray\u001b[0m\u001b[0;34m(\u001b[0m\u001b[0mx\u001b[0m\u001b[0;34m)\u001b[0m\u001b[0;34m\u001b[0m\u001b[0;34m\u001b[0m\u001b[0m\n\u001b[1;32m   2095\u001b[0m \u001b[0;34m\u001b[0m\u001b[0m\n\u001b[0;32m-> 2096\u001b[0;31m     \u001b[0mchunks\u001b[0m \u001b[0;34m=\u001b[0m \u001b[0mnormalize_chunks\u001b[0m\u001b[0;34m(\u001b[0m\u001b[0mchunks\u001b[0m\u001b[0;34m,\u001b[0m \u001b[0mx\u001b[0m\u001b[0;34m.\u001b[0m\u001b[0mshape\u001b[0m\u001b[0;34m,\u001b[0m \u001b[0mdtype\u001b[0m\u001b[0;34m=\u001b[0m\u001b[0mx\u001b[0m\u001b[0;34m.\u001b[0m\u001b[0mdtype\u001b[0m\u001b[0;34m)\u001b[0m\u001b[0;34m\u001b[0m\u001b[0;34m\u001b[0m\u001b[0m\n\u001b[0m\u001b[1;32m   2097\u001b[0m     \u001b[0;32mif\u001b[0m \u001b[0mname\u001b[0m \u001b[0;32min\u001b[0m \u001b[0;34m(\u001b[0m\u001b[0;32mNone\u001b[0m\u001b[0;34m,\u001b[0m \u001b[0;32mTrue\u001b[0m\u001b[0;34m)\u001b[0m\u001b[0;34m:\u001b[0m\u001b[0;34m\u001b[0m\u001b[0;34m\u001b[0m\u001b[0m\n\u001b[1;32m   2098\u001b[0m         \u001b[0mtoken\u001b[0m \u001b[0;34m=\u001b[0m \u001b[0mtokenize\u001b[0m\u001b[0;34m(\u001b[0m\u001b[0mx\u001b[0m\u001b[0;34m,\u001b[0m \u001b[0mchunks\u001b[0m\u001b[0;34m)\u001b[0m\u001b[0;34m\u001b[0m\u001b[0;34m\u001b[0m\u001b[0m\n",
      "\u001b[0;32m/usr/local/python/anaconda3/envs/python3.6/lib/python3.6/site-packages/dask/array/core.py\u001b[0m in \u001b[0;36mnormalize_chunks\u001b[0;34m(chunks, shape, limit, dtype, previous_chunks)\u001b[0m\n\u001b[1;32m   1884\u001b[0m \u001b[0;34m\u001b[0m\u001b[0m\n\u001b[1;32m   1885\u001b[0m     \u001b[0;32mif\u001b[0m \u001b[0many\u001b[0m\u001b[0;34m(\u001b[0m\u001b[0mc\u001b[0m \u001b[0;34m==\u001b[0m \u001b[0;34m'auto'\u001b[0m \u001b[0;32mfor\u001b[0m \u001b[0mc\u001b[0m \u001b[0;32min\u001b[0m \u001b[0mchunks\u001b[0m\u001b[0;34m)\u001b[0m\u001b[0;34m:\u001b[0m\u001b[0;34m\u001b[0m\u001b[0;34m\u001b[0m\u001b[0m\n\u001b[0;32m-> 1886\u001b[0;31m         \u001b[0mchunks\u001b[0m \u001b[0;34m=\u001b[0m \u001b[0mauto_chunks\u001b[0m\u001b[0;34m(\u001b[0m\u001b[0mchunks\u001b[0m\u001b[0;34m,\u001b[0m \u001b[0mshape\u001b[0m\u001b[0;34m,\u001b[0m \u001b[0mlimit\u001b[0m\u001b[0;34m,\u001b[0m \u001b[0mdtype\u001b[0m\u001b[0;34m,\u001b[0m \u001b[0mprevious_chunks\u001b[0m\u001b[0;34m)\u001b[0m\u001b[0;34m\u001b[0m\u001b[0;34m\u001b[0m\u001b[0m\n\u001b[0m\u001b[1;32m   1887\u001b[0m \u001b[0;34m\u001b[0m\u001b[0m\n\u001b[1;32m   1888\u001b[0m     \u001b[0;32mif\u001b[0m \u001b[0mshape\u001b[0m \u001b[0;32mis\u001b[0m \u001b[0;32mnot\u001b[0m \u001b[0;32mNone\u001b[0m\u001b[0;34m:\u001b[0m\u001b[0;34m\u001b[0m\u001b[0;34m\u001b[0m\u001b[0m\n",
      "\u001b[0;32m/usr/local/python/anaconda3/envs/python3.6/lib/python3.6/site-packages/dask/array/core.py\u001b[0m in \u001b[0;36mauto_chunks\u001b[0;34m(chunks, shape, limit, dtype, previous_chunks)\u001b[0m\n\u001b[1;32m   1955\u001b[0m     \u001b[0;32mif\u001b[0m \u001b[0mdtype\u001b[0m\u001b[0;34m.\u001b[0m\u001b[0mhasobject\u001b[0m\u001b[0;34m:\u001b[0m\u001b[0;34m\u001b[0m\u001b[0;34m\u001b[0m\u001b[0m\n\u001b[1;32m   1956\u001b[0m         raise NotImplementedError(\n\u001b[0;32m-> 1957\u001b[0;31m             \u001b[0;34m\"Can not use auto rechunking with object dtype. \"\u001b[0m\u001b[0;34m\u001b[0m\u001b[0;34m\u001b[0m\u001b[0m\n\u001b[0m\u001b[1;32m   1958\u001b[0m             \"We are unable to estimate the size in bytes of object data\")\n\u001b[1;32m   1959\u001b[0m \u001b[0;34m\u001b[0m\u001b[0m\n",
      "\u001b[0;31mNotImplementedError\u001b[0m: Can not use auto rechunking with object dtype. We are unable to estimate the size in bytes of object data"
     ]
    }
   ],
   "source": [
    "ds.chunk(chunks={'time' : 'auto'})"
   ]
  },
  {
   "cell_type": "raw",
   "metadata": {},
   "source": [
    "from dask.diagnostics import ProgressBar\n",
    "with ProgressBar():\n",
    "    ds.to_zarr('zarr-test',consolidated=True)"
   ]
  },
  {
   "cell_type": "code",
   "execution_count": 7,
   "metadata": {},
   "outputs": [],
   "source": [
    "#! rm -rf /dm4/naomi/zarr-test-Omon"
   ]
  },
  {
   "cell_type": "code",
   "execution_count": 8,
   "metadata": {},
   "outputs": [
    {
     "name": "stdout",
     "output_type": "stream",
     "text": [
      "BCC-ESM1 \n",
      "\n",
      "r1i1p1f1\n",
      "ncpath is:  /dm5/naomi/CMIP6/CMIP/BCC/BCC-ESM1/historical/r1i1p1f1/Omon/uo/gn/v20181129 \n",
      "\n",
      "zpath is:  /dm4/naomi/zarr-test-Omon/CMIP/BCC/BCC-ESM1/historical/r1i1p1f1/v20181129/uo \n",
      "\n",
      "r3i1p1f1\n",
      "ncpath is:  /dm5/naomi/CMIP6/CMIP/BCC/BCC-ESM1/historical/r3i1p1f1/Omon/uo/gn/v20181218 \n",
      "\n",
      "zpath is:  /dm4/naomi/zarr-test-Omon/CMIP/BCC/BCC-ESM1/historical/r3i1p1f1/v20181218/uo \n",
      "\n",
      "r2i1p1f1\n",
      "ncpath is:  /dm5/naomi/CMIP6/CMIP/BCC/BCC-ESM1/historical/r2i1p1f1/Omon/uo/gn/v20181218 \n",
      "\n",
      "zpath is:  /dm4/naomi/zarr-test-Omon/CMIP/BCC/BCC-ESM1/historical/r2i1p1f1/v20181218/uo \n",
      "\n",
      "BCC-CSM2-MR \n",
      "\n",
      "r1i1p1f1\n",
      "ncpath is:  /dm5/naomi/CMIP6/CMIP/BCC/BCC-CSM2-MR/historical/r1i1p1f1/Omon/uo/gn/v20181126 \n",
      "\n",
      "zpath is:  /dm4/naomi/zarr-test-Omon/CMIP/BCC/BCC-CSM2-MR/historical/r1i1p1f1/v20181126/uo \n",
      "\n",
      "r3i1p1f1\n",
      "ncpath is:  /dm5/naomi/CMIP6/CMIP/BCC/BCC-CSM2-MR/historical/r3i1p1f1/Omon/uo/gn/v20181102 \n",
      "\n",
      "zpath is:  /dm4/naomi/zarr-test-Omon/CMIP/BCC/BCC-CSM2-MR/historical/r3i1p1f1/v20181102/uo \n",
      "\n",
      "r2i1p1f1\n",
      "ncpath is:  /dm5/naomi/CMIP6/CMIP/BCC/BCC-CSM2-MR/historical/r2i1p1f1/Omon/uo/gn/v20181031 \n",
      "\n",
      "zpath is:  /dm4/naomi/zarr-test-Omon/CMIP/BCC/BCC-CSM2-MR/historical/r2i1p1f1/v20181031/uo \n",
      "\n",
      "CNRM-CM6-1 \n",
      "\n",
      "r2i1p1f2\n",
      "ncpath is:  /dm5/naomi/CMIP6/CMIP/CNRM-CERFACS/CNRM-CM6-1/historical/r2i1p1f2/Omon/uo/gn/v20181126 \n",
      "\n",
      "zpath is:  /dm4/naomi/zarr-test-Omon/CMIP/CNRM-CERFACS/CNRM-CM6-1/historical/r2i1p1f2/v20181126/uo \n",
      "\n",
      "r1i1p1f2\n",
      "ncpath is:  /dm5/naomi/CMIP6/CMIP/CNRM-CERFACS/CNRM-CM6-1/historical/r1i1p1f2/Omon/uo/gn/v20180917 \n",
      "\n",
      "zpath is:  /dm4/naomi/zarr-test-Omon/CMIP/CNRM-CERFACS/CNRM-CM6-1/historical/r1i1p1f2/v20180917/uo \n",
      "\n",
      "IPSL-CM6A-LR \n",
      "\n",
      "r1i1p1f1\n",
      "ncpath is:  /dm5/naomi/CMIP6/CMIP/IPSL/IPSL-CM6A-LR/historical/r1i1p1f1/Omon/uo/gn/v20180803 \n",
      "\n",
      "zpath is:  /dm4/naomi/zarr-test-Omon/CMIP/IPSL/IPSL-CM6A-LR/historical/r1i1p1f1/v20180803/uo \n",
      "\n",
      "r4i1p1f1\n",
      "ncpath is:  /dm5/naomi/CMIP6/CMIP/IPSL/IPSL-CM6A-LR/historical/r4i1p1f1/Omon/uo/gn/v20180803 \n",
      "\n"
     ]
    },
    {
     "ename": "OSError",
     "evalue": "no files to open",
     "output_type": "error",
     "traceback": [
      "\u001b[0;31m---------------------------------------------------------------------------\u001b[0m",
      "\u001b[0;31mOSError\u001b[0m                                   Traceback (most recent call last)",
      "\u001b[0;32m<timed exec>\u001b[0m in \u001b[0;36m<module>\u001b[0;34m\u001b[0m\n",
      "\u001b[0;32m/usr/local/python/anaconda3/envs/python3.6/lib/python3.6/site-packages/xarray/backends/api.py\u001b[0m in \u001b[0;36mopen_mfdataset\u001b[0;34m(paths, chunks, concat_dim, compat, preprocess, engine, lock, data_vars, coords, autoclose, parallel, **kwargs)\u001b[0m\n\u001b[1;32m    620\u001b[0m \u001b[0;34m\u001b[0m\u001b[0m\n\u001b[1;32m    621\u001b[0m     \u001b[0;32mif\u001b[0m \u001b[0;32mnot\u001b[0m \u001b[0mpaths\u001b[0m\u001b[0;34m:\u001b[0m\u001b[0;34m\u001b[0m\u001b[0;34m\u001b[0m\u001b[0m\n\u001b[0;32m--> 622\u001b[0;31m         \u001b[0;32mraise\u001b[0m \u001b[0mIOError\u001b[0m\u001b[0;34m(\u001b[0m\u001b[0;34m'no files to open'\u001b[0m\u001b[0;34m)\u001b[0m\u001b[0;34m\u001b[0m\u001b[0;34m\u001b[0m\u001b[0m\n\u001b[0m\u001b[1;32m    623\u001b[0m \u001b[0;34m\u001b[0m\u001b[0m\n\u001b[1;32m    624\u001b[0m     \u001b[0;31m# Coerce 1D input into ND to maintain backwards-compatible API until API\u001b[0m\u001b[0;34m\u001b[0m\u001b[0;34m\u001b[0m\u001b[0;34m\u001b[0m\u001b[0m\n",
      "\u001b[0;31mOSError\u001b[0m: no files to open"
     ]
    }
   ],
   "source": [
    "%%time \n",
    "s='/'\n",
    "zarrdir = '/dm4/naomi/zarr-test-Omon'\n",
    "#variables = ['thetao','so','uo','vo','wo']\n",
    "variables = ['uo']\n",
    "models = glob('/dm5/naomi/CMIP6/CMIP/*/*')\n",
    "\n",
    "for model in models:\n",
    "    if 'MIROC' in model:\n",
    "        continue\n",
    "    print(model.split(s)[-1],'\\n')\n",
    "    variants = glob(model+'/historical/*')\n",
    "    \n",
    "    for variant in variants:\n",
    "        print(variant.split(s)[-1])\n",
    "        \n",
    "        for var in variables:\n",
    "            vpath = variant+'/Omon/'+var+'/gn/'\n",
    "            versions = glob(vpath+'v*')\n",
    "            version=versions[-1].split(s)[-1]\n",
    "            #print(version)\n",
    "            zpath = zarrdir+variant[16:]+s+version+s+var\n",
    "            ncpath = versions[-1]\n",
    "            print('ncpath is: ',ncpath,'\\n')\n",
    "            ds = xr.open_mfdataset(ncpath+'/*.nc', preprocess=set_bnds_as_coords, decode_times=False, concat_dim=['time'], chunks={'time' : 'auto'}, parallel=True)\n",
    "            #ds = xr.open_mfdataset(ncpath+'/*.nc', preprocess=set_bnds_as_coords, parallel=True)\n",
    "            print('zpath is: ',zpath,'\\n')\n",
    "            # encoding = {dvar: {'compressor': zarr.Zstd(level=3)} for dvar in ds.data_vars}\n",
    "            ds.to_zarr(zpath,consolidated=True) # encoding=encoding)"
   ]
  },
  {
   "cell_type": "code",
   "execution_count": 9,
   "metadata": {},
   "outputs": [],
   "source": [
    "ds1 = xr.open_zarr('/dm4/naomi/zarr-test-Omon/CMIP/BCC/BCC-ESM1/historical/r1i1p1f1/v20181129/uo')"
   ]
  }
 ],
 "metadata": {
  "kernelspec": {
   "display_name": "Py3.6+pangeo",
   "language": "python",
   "name": "python3.6"
  },
  "language_info": {
   "codemirror_mode": {
    "name": "ipython",
    "version": 3
   },
   "file_extension": ".py",
   "mimetype": "text/x-python",
   "name": "python",
   "nbconvert_exporter": "python",
   "pygments_lexer": "ipython3",
   "version": "3.6.7"
  }
 },
 "nbformat": 4,
 "nbformat_minor": 2
}
