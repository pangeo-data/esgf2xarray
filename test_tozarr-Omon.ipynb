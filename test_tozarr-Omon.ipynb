{
 "cells": [
  {
   "cell_type": "code",
   "execution_count": 1,
   "metadata": {},
   "outputs": [
    {
     "data": {
      "text/plain": [
       "'0.11.1+65.g627a881'"
      ]
     },
     "execution_count": 1,
     "metadata": {},
     "output_type": "execute_result"
    }
   ],
   "source": [
    "import xarray as xr\n",
    "from glob import glob\n",
    "from matplotlib import pyplot as plt\n",
    "%matplotlib inline\n",
    "xr.__version__"
   ]
  },
  {
   "cell_type": "code",
   "execution_count": 2,
   "metadata": {},
   "outputs": [
    {
     "data": {
      "text/plain": [
       "'2.2.1.dev146'"
      ]
     },
     "execution_count": 2,
     "metadata": {},
     "output_type": "execute_result"
    }
   ],
   "source": [
    "import zarr\n",
    "zarr.__version__"
   ]
  },
  {
   "cell_type": "markdown",
   "metadata": {},
   "source": [
    "- don't forget to do some port forwarding from the machine your browser is running on:\n",
    "- ssh -L 8787:localhost:8787 naomi@mary\n",
    "- (and DASK DASHBOARD URL = http://127.0.0.1:8787/status)\n",
    "            "
   ]
  },
  {
   "cell_type": "code",
   "execution_count": 3,
   "metadata": {},
   "outputs": [
    {
     "data": {
      "text/html": [
       "<table style=\"border: 2px solid white;\">\n",
       "<tr>\n",
       "<td style=\"vertical-align: top; border: 0px solid white\">\n",
       "<h3>Client</h3>\n",
       "<ul>\n",
       "  <li><b>Scheduler: </b>tcp://127.0.0.1:45658\n",
       "  <li><b>Dashboard: </b><a href='http://127.0.0.1:8787/status' target='_blank'>http://127.0.0.1:8787/status</a>\n",
       "</ul>\n",
       "</td>\n",
       "<td style=\"vertical-align: top; border: 0px solid white\">\n",
       "<h3>Cluster</h3>\n",
       "<ul>\n",
       "  <li><b>Workers: </b>8</li>\n",
       "  <li><b>Cores: </b>40</li>\n",
       "  <li><b>Memory: </b>134.90 GB</li>\n",
       "</ul>\n",
       "</td>\n",
       "</tr>\n",
       "</table>"
      ],
      "text/plain": [
       "<Client: scheduler='tcp://127.0.0.1:45658' processes=8 cores=40>"
      ]
     },
     "execution_count": 3,
     "metadata": {},
     "output_type": "execute_result"
    }
   ],
   "source": [
    "from dask.distributed import Client\n",
    "\n",
    "client = Client()\n",
    "client"
   ]
  },
  {
   "cell_type": "code",
   "execution_count": 9,
   "metadata": {},
   "outputs": [],
   "source": [
    "from esgf2zarr.aggregate import set_bnds_as_coords\n"
   ]
  },
  {
   "cell_type": "code",
   "execution_count": 10,
   "metadata": {},
   "outputs": [],
   "source": [
    "#%%time\n",
    "ncfile1 = '/dm5/naomi/CMIP6mon/CMIP/BCC/BCC-ESM1/historical/r1i1p1f1/Omon/uo/gn/v20181129/uo_Omon_BCC-ESM1_historical_r1i1p1f1_gn_185001-185912.nc'\n",
    "ds1 = xr.open_mfdataset(ncfile1, decode_times=False, preprocess=set_bnds_as_coords)\n",
    "ncfile2 = '/dm5/naomi/CMIP6mon/CMIP/BCC/BCC-ESM1/historical/r1i1p1f1/Omon/uo/gn/v20181129/uo_Omon_BCC-ESM1_historical_r1i1p1f1_gn_186001-186912.nc'\n",
    "ds2 = xr.open_mfdataset(ncfile2, decode_times=False, preprocess=set_bnds_as_coords)"
   ]
  },
  {
   "cell_type": "code",
   "execution_count": 11,
   "metadata": {},
   "outputs": [
    {
     "name": "stdout",
     "output_type": "stream",
     "text": [
      "days since 1850-1-1  and  days since 1860-1-1\n"
     ]
    }
   ],
   "source": [
    "print(ds1.time.attrs['units'],' and ',ds2.time.attrs['units'])"
   ]
  },
  {
   "cell_type": "code",
   "execution_count": 12,
   "metadata": {},
   "outputs": [
    {
     "data": {
      "text/plain": [
       "Coordinates:\n",
       "  * lev        (lev) float64 5.0 15.0 25.0 ... 4.289e+03 4.807e+03 5.334e+03\n",
       "    lev_bnds   (lev, bnds) float64 0.0 10.0 10.0 ... 5.071e+03 5.071e+03 5.6e+03\n",
       "  * lat        (lat) float64 -81.0 -80.0 -79.0 -78.0 ... 87.0 88.0 89.0 90.0\n",
       "    lat_bnds   (lat, bnds) float64 -81.0 -80.5 -80.5 -79.5 ... 89.5 89.5 90.0\n",
       "  * lon        (lon) float64 0.0 1.0 2.0 3.0 4.0 ... 356.0 357.0 358.0 359.0\n",
       "    lon_bnds   (lon, bnds) float64 -0.5 0.5 0.5 1.5 ... 357.5 358.5 358.5 359.5\n",
       "    latitude   (lat, lon) float32 -81.0 -81.0 -81.0 ... 88.4463 88.2237 88.00084\n",
       "    longitude  (lat, lon) float32 0.0 1.0 2.0 3.0 4.0 ... 80.0 80.0 80.0 80.0\n",
       "  * time       (time) object 1850-01-16 12:00:00 ... 1869-12-16 12:00:00\n",
       "    time_bnds  (time, bnds) object dask.array<shape=(240, 2), chunksize=(120, 2)>"
      ]
     },
     "execution_count": 12,
     "metadata": {},
     "output_type": "execute_result"
    }
   ],
   "source": [
    "ds = xr.open_mfdataset([ncfile1,ncfile2], decode_times=True, preprocess=set_bnds_as_coords)\n",
    "ds.coords"
   ]
  },
  {
   "cell_type": "code",
   "execution_count": 13,
   "metadata": {},
   "outputs": [
    {
     "data": {
      "text/plain": [
       "<xarray.DataArray 'uo' (time: 240, lev: 40, lat: 232, lon: 360)>\n",
       "dask.array<shape=(240, 40, 232, 360), dtype=float32, chunksize=(10, 40, 232, 360)>\n",
       "Coordinates:\n",
       "  * lev        (lev) float64 5.0 15.0 25.0 ... 4.289e+03 4.807e+03 5.334e+03\n",
       "  * lat        (lat) float64 -81.0 -80.0 -79.0 -78.0 ... 87.0 88.0 89.0 90.0\n",
       "  * lon        (lon) float64 0.0 1.0 2.0 3.0 4.0 ... 356.0 357.0 358.0 359.0\n",
       "    latitude   (lat, lon) float32 dask.array<shape=(232, 360), chunksize=(232, 360)>\n",
       "    longitude  (lat, lon) float32 dask.array<shape=(232, 360), chunksize=(232, 360)>\n",
       "  * time       (time) object 1850-01-16 12:00:00 ... 1869-12-16 12:00:00\n",
       "Attributes:\n",
       "    standard_name:  sea_water_x_velocity\n",
       "    long_name:      Sea Water X Velocity\n",
       "    comment:        Prognostic x-ward velocity component resolved by the model.\n",
       "    units:          m s-1\n",
       "    original_name:  uo\n",
       "    cell_methods:   time: mean (interval: 30 minutes)"
      ]
     },
     "execution_count": 13,
     "metadata": {},
     "output_type": "execute_result"
    }
   ],
   "source": [
    "ds['uo'].chunk(chunks={'time' : 'auto'})"
   ]
  },
  {
   "cell_type": "code",
   "execution_count": null,
   "metadata": {},
   "outputs": [],
   "source": []
  }
 ],
 "metadata": {
  "kernelspec": {
   "display_name": "Py3.6+pangeo",
   "language": "python",
   "name": "python3.6"
  },
  "language_info": {
   "codemirror_mode": {
    "name": "ipython",
    "version": 3
   },
   "file_extension": ".py",
   "mimetype": "text/x-python",
   "name": "python",
   "nbconvert_exporter": "python",
   "pygments_lexer": "ipython3",
   "version": "3.6.7"
  }
 },
 "nbformat": 4,
 "nbformat_minor": 2
}
